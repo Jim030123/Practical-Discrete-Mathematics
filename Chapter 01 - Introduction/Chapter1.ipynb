{
  "cells": [
    {
      "cell_type": "markdown",
      "metadata": {
        "id": "yp1RyOy1VzMt"
      },
      "source": [
        "# Chapter 1 - Introduction: Key Concepts, Notation, Set Theory, Relations, and Functions\n",
        "\n",
        "This notebook contains code accompanying Chapter 1 Introduction: Key Concepts, Notation, Set Theory, Relations, and Functions in *Practical Discrete Mathematics* by Ryan T. White and Archana Tikayat Ray\n",
        "\n",
        "## Functions and Relations\n",
        "\n",
        "### The `sort()` function"
      ]
    },
    {
      "cell_type": "code",
      "execution_count": null,
      "metadata": {
        "id": "VLPK1oMUVzMw",
        "outputId": "210a99ea-7a0c-42a4-e5bf-1cd461db6ff8"
      },
      "outputs": [
        {
          "name": "stdout",
          "output_type": "stream",
          "text": [
            "[1, 2, 3, 4, 5, 8, 9, 12, 13]\n",
            "['Brandon', 'Elise', 'Eugene', 'Kumar', 'Wyatt']\n"
          ]
        }
      ],
      "source": [
        "numbers = [3, 1, 4, 12, 8, 5, 2, 9, 15]\n",
        "names = ['Wyatt', 'Brandon', 'Kumar', 'Eugene', 'Elise']\n",
        "\n",
        "# Apply the sort() function to the lists\n",
        "numbers.sort()\n",
        "names.sort()\n",
        "\n",
        "# Display the output\n",
        "print(numbers)\n",
        "print(names)"
      ]
    },
    {
      "cell_type": "markdown",
      "metadata": {
        "id": "HrAtuQBhVzMy"
      },
      "source": [
        "### The `shuffle()` function"
      ]
    },
    {
      "cell_type": "code",
      "execution_count": null,
      "metadata": {
        "id": "KyTNV1gWVzMz",
        "outputId": "9296e763-52ed-4a32-c718-02eb1bebcc1c"
      },
      "outputs": [
        {
          "name": "stdout",
          "output_type": "stream",
          "text": [
            "[12, 2, 1, 5, 9, 3, 8, 4]\n",
            "[4, 2, 8, 3, 1, 12, 5, 9]\n",
            "[4, 5, 1, 9, 3, 8, 12, 2]\n",
            "[9, 12, 2, 8, 5, 3, 4, 1]\n",
            "[9, 8, 4, 3, 12, 1, 5, 2]\n"
          ]
        }
      ],
      "source": [
        "import random\n",
        "\n",
        "# Set a random seed so the code is reproducible\n",
        "random.seed(1)\n",
        "\n",
        "# Run the random.shuffle() function 5 times and display the outputs\n",
        "for i in range(0,5):\n",
        "    numbers = [3, 1, 4, 12, 8, 5, 2, 9]\n",
        "    random.shuffle(numbers)\n",
        "    print(numbers)"
      ]
    },
    {
      "cell_type": "code",
      "execution_count": null,
      "metadata": {
        "id": "FYlGFm0uVzM0"
      },
      "outputs": [],
      "source": [
        "# Define two sets\n",
        "set1 = {1, 2, 3, 4, 5}\n",
        "set2 = {4, 5, 6, 7, 8}\n",
        "\n",
        "# Perform the union operation\n",
        "union_set = set1.union(set2)\n",
        "\n",
        "# Display the output\n",
        "print(union_set)"
      ]
    },
    {
      "cell_type": "markdown",
      "metadata": {
        "id": "F_33Krc7VzM1"
      },
      "source": [
        "*Questions1: randomly create 2 set of number, find the common nummbers in the 2 set*"
      ]
    },
    {
      "cell_type": "code",
      "execution_count": null,
      "metadata": {
        "id": "uQ1Sbr0LVzM2"
      },
      "outputs": [],
      "source": [
        "# Create two sets of random numbers\n",
        "set_a = set(random.sample(range(1, 20), 10))\n",
        "set_b = set(random.sample(range(1, 20), 10))\n",
        "\n",
        "# Find the common numbers in the two sets\n",
        "common_numbers = set_a.intersection(set_b)\n",
        "\n",
        "# Display the sets and the common numbers\n",
        "print(\"Set A:\", set_a)\n",
        "print(\"Set B:\", set_b)\n",
        "print(\"Common Numbers:\", common_numbers)"
      ]
    },
    {
      "cell_type": "markdown",
      "metadata": {
        "id": "9Am70xJDVzM2"
      },
      "source": [
        "*Question 2: shuffle the character in your name. For example: Apple Chan, After shuffle."
      ]
    },
    {
      "cell_type": "code",
      "execution_count": null,
      "metadata": {
        "id": "c74M3NhbVzM3"
      },
      "outputs": [],
      "source": [
        "name = list(\"Apple Chan\")\n",
        "random.shuffle(name)\n",
        "shuffled_name = ''.join(name)\n",
        "\n",
        "print(\"Original Name: Apple Chan\")\n",
        "print(\"Shuffled Name:\", shuffled_name)\n",
        "name_jim = list(\"Jim Ng Ying Gee\")\n",
        "random.shuffle(name_jim)\n",
        "shuffled_name_jim = ''.join(name_jim)\n",
        "\n",
        "print(\"Shuffled Name:\", shuffled_name_jim)\n"
      ]
    },
    {
      "cell_type": "markdown",
      "metadata": {
        "id": "oiGv79RTVzM4"
      },
      "source": [
        "Question3: extract a table from wikipedia https://en.wikipedia.org/wiki/Frieren"
      ]
    },
    {
      "cell_type": "code",
      "execution_count": null,
      "metadata": {
        "id": "5kKKRV8gVzM4"
      },
      "outputs": [],
      "source": [
        "import pandas as pd\n",
        "\n",
        "# URL of the Wikipedia page\n",
        "url = \"https://en.wikipedia.org/wiki/Frieren\"\n",
        "\n",
        "# Extract all tables from the Wikipedia page\n",
        "tables = pd.read_html(url)\n",
        "\n",
        "# Display the first table\n",
        "if tables:\n",
        "    print(tables[0])\n",
        "else:\n",
        "    print(\"No tables found on the page.\")"
      ]
    },
    {
      "cell_type": "code",
      "source": [
        "user_name = input(\"Enter your name: \")\n",
        "print(f\"Hello,{user_name}! Welcome to Google Colab\")"
      ],
      "metadata": {
        "colab": {
          "base_uri": "https://localhost:8080/"
        },
        "id": "TKckEE1nV5YD",
        "outputId": "6b0e61ba-3bf2-4db1-f2d3-29cfe727dce1"
      },
      "execution_count": 3,
      "outputs": [
        {
          "output_type": "stream",
          "name": "stdout",
          "text": [
            "Enter your name: hi\n",
            "Hello,hi! Welcome to Google Colab\n"
          ]
        }
      ]
    }
  ],
  "metadata": {
    "kernelspec": {
      "display_name": "Python 3",
      "language": "python",
      "name": "python3"
    },
    "language_info": {
      "codemirror_mode": {
        "name": "ipython",
        "version": 3
      },
      "file_extension": ".py",
      "mimetype": "text/x-python",
      "name": "python",
      "nbconvert_exporter": "python",
      "pygments_lexer": "ipython3",
      "version": "3.7.4"
    },
    "colab": {
      "provenance": []
    }
  },
  "nbformat": 4,
  "nbformat_minor": 0
}