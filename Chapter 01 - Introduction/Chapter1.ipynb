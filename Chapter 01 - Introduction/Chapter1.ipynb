{
 "cells": [
  {
   "cell_type": "markdown",
   "metadata": {},
   "source": [
    "# Chapter 1 - Introduction: Key Concepts, Notation, Set Theory, Relations, and Functions\n",
    "\n",
    "This notebook contains code accompanying Chapter 1 Introduction: Key Concepts, Notation, Set Theory, Relations, and Functions in *Practical Discrete Mathematics* by Ryan T. White and Archana Tikayat Ray\n",
    "\n",
    "## Functions and Relations\n",
    "\n",
    "### The `sort()` function"
   ]
  },
  {
   "cell_type": "code",
   "execution_count": 3,
   "metadata": {},
   "outputs": [
    {
     "name": "stdout",
     "output_type": "stream",
     "text": [
      "[1, 2, 3, 4, 5, 8, 9, 12, 13]\n",
      "['Brandon', 'Elise', 'Eugene', 'Kumar', 'Wyatt']\n"
     ]
    }
   ],
   "source": [
    "numbers = [3, 1, 4, 12, 8, 5, 2, 9, 15]\n",
    "names = ['Wyatt', 'Brandon', 'Kumar', 'Eugene', 'Elise']\n",
    "\n",
    "# Apply the sort() function to the lists\n",
    "numbers.sort()\n",
    "names.sort()\n",
    "\n",
    "# Display the output\n",
    "print(numbers)\n",
    "print(names)"
   ]
  },
  {
   "cell_type": "markdown",
   "metadata": {},
   "source": [
    "### The `shuffle()` function"
   ]
  },
  {
   "cell_type": "code",
   "execution_count": 14,
   "metadata": {},
   "outputs": [
    {
     "name": "stdout",
     "output_type": "stream",
     "text": [
      "[12, 2, 1, 5, 9, 3, 8, 4]\n",
      "[4, 2, 8, 3, 1, 12, 5, 9]\n",
      "[4, 5, 1, 9, 3, 8, 12, 2]\n",
      "[9, 12, 2, 8, 5, 3, 4, 1]\n",
      "[9, 8, 4, 3, 12, 1, 5, 2]\n"
     ]
    }
   ],
   "source": [
    "import random\n",
    "\n",
    "# Set a random seed so the code is reproducible\n",
    "random.seed(1)\n",
    "\n",
    "# Run the random.shuffle() function 5 times and display the outputs\n",
    "for i in range(0,5):\n",
    "    numbers = [3, 1, 4, 12, 8, 5, 2, 9]\n",
    "    random.shuffle(numbers)\n",
    "    print(numbers)"
   ]
  },
  {
   "cell_type": "code",
   "execution_count": null,
   "metadata": {},
   "outputs": [],
   "source": [
    "# Define two sets\n",
    "set1 = {1, 2, 3, 4, 5}\n",
    "set2 = {4, 5, 6, 7, 8}\n",
    "\n",
    "# Perform the union operation\n",
    "union_set = set1.union(set2)\n",
    "\n",
    "# Display the output\n",
    "print(union_set)"
   ]
  },
  {
   "cell_type": "markdown",
   "metadata": {},
   "source": [
    "*Questions1: randomly create 2 set of number, find the common nummbers in the 2 set*"
   ]
  },
  {
   "cell_type": "code",
   "execution_count": null,
   "metadata": {},
   "outputs": [],
   "source": [
    "# Create two sets of random numbers\n",
    "set_a = set(random.sample(range(1, 20), 10))\n",
    "set_b = set(random.sample(range(1, 20), 10))\n",
    "\n",
    "# Find the common numbers in the two sets\n",
    "common_numbers = set_a.intersection(set_b)\n",
    "\n",
    "# Display the sets and the common numbers\n",
    "print(\"Set A:\", set_a)\n",
    "print(\"Set B:\", set_b)\n",
    "print(\"Common Numbers:\", common_numbers)"
   ]
  },
  {
   "cell_type": "markdown",
   "metadata": {},
   "source": [
    "*Question 2: shuffle the character in your name. For example: Apple Chan, After shuffle."
   ]
  },
  {
   "cell_type": "code",
   "execution_count": null,
   "metadata": {},
   "outputs": [],
   "source": [
    "name = list(\"Apple Chan\")\n",
    "random.shuffle(name)\n",
    "shuffled_name = ''.join(name)\n",
    "\n",
    "print(\"Original Name: Apple Chan\")\n",
    "print(\"Shuffled Name:\", shuffled_name)\n",
    "name_jim = list(\"Jim Ng Ying Gee\")\n",
    "random.shuffle(name_jim)\n",
    "shuffled_name_jim = ''.join(name_jim)\n",
    "\n",
    "print(\"Shuffled Name:\", shuffled_name_jim)\n"
   ]
  },
  {
   "cell_type": "markdown",
   "metadata": {},
   "source": [
    "Question3: extract a table from wikipedia https://en.wikipedia.org/wiki/Frieren "
   ]
  },
  {
   "cell_type": "code",
   "execution_count": null,
   "metadata": {},
   "outputs": [],
   "source": [
    "import pandas as pd\n",
    "\n",
    "# URL of the Wikipedia page\n",
    "url = \"https://en.wikipedia.org/wiki/Frieren\"\n",
    "\n",
    "# Extract all tables from the Wikipedia page\n",
    "tables = pd.read_html(url)\n",
    "\n",
    "# Display the first table\n",
    "if tables:\n",
    "    print(tables[0])\n",
    "else:\n",
    "    print(\"No tables found on the page.\")"
   ]
  }
 ],
 "metadata": {
  "kernelspec": {
   "display_name": "Python 3",
   "language": "python",
   "name": "python3"
  },
  "language_info": {
   "codemirror_mode": {
    "name": "ipython",
    "version": 3
   },
   "file_extension": ".py",
   "mimetype": "text/x-python",
   "name": "python",
   "nbconvert_exporter": "python",
   "pygments_lexer": "ipython3",
   "version": "3.7.4"
  }
 },
 "nbformat": 4,
 "nbformat_minor": 4
}
